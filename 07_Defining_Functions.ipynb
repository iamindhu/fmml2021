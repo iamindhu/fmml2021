{
  "nbformat": 4,
  "nbformat_minor": 0,
  "metadata": {
    "colab": {
      "name": "07_Defining_Functions.ipynb",
      "provenance": [],
      "include_colab_link": true
    },
    "kernelspec": {
      "name": "python3",
      "display_name": "Python 3"
    },
    "language_info": {
      "name": "python"
    }
  },
  "cells": [
    {
      "cell_type": "markdown",
      "metadata": {
        "id": "view-in-github",
        "colab_type": "text"
      },
      "source": [
        "<a href=\"https://colab.research.google.com/github/iamindhu/fmml2021/blob/main/07_Defining_Functions.ipynb\" target=\"_parent\"><img src=\"https://colab.research.google.com/assets/colab-badge.svg\" alt=\"Open In Colab\"/></a>"
      ]
    },
    {
      "cell_type": "code",
      "metadata": {
        "id": "1pqsgNqwnbHE"
      },
      "source": [
        "def inList (my_char, my_list=['a','e','i','o','u']):\n",
        "  \"\"\" this is a function to check whether a char is vowel or not \"\"\"\n",
        "  for each_char in my_list:\n",
        "    if each_char == my_char.lower():\n",
        "      return True\n",
        "  return False"
      ],
      "execution_count": 2,
      "outputs": []
    },
    {
      "cell_type": "code",
      "metadata": {
        "id": "gh_6b8Rdg_kC",
        "outputId": "abc06725-364d-43b3-d593-e7d9d7e38f25",
        "colab": {
          "base_uri": "https://localhost:8080/"
        }
      },
      "source": [
        "help(inList)"
      ],
      "execution_count": 4,
      "outputs": [
        {
          "output_type": "stream",
          "name": "stdout",
          "text": [
            "Help on function inList in module __main__:\n",
            "\n",
            "inList(my_char, my_list=['a', 'e', 'i', 'o', 'u'])\n",
            "    this is a function to check whether a char is vowel or not\n",
            "\n"
          ]
        }
      ]
    },
    {
      "cell_type": "code",
      "metadata": {
        "id": "SLpNGCWYn6Er",
        "outputId": "d3fdbe53-4139-4888-f168-344a4187402c",
        "colab": {
          "base_uri": "https://localhost:8080/"
        }
      },
      "source": [
        "inList('Z', ['x', 'y', 'z'])"
      ],
      "execution_count": 3,
      "outputs": [
        {
          "output_type": "execute_result",
          "data": {
            "text/plain": [
              "True"
            ]
          },
          "metadata": {},
          "execution_count": 3
        }
      ]
    },
    {
      "cell_type": "code",
      "metadata": {
        "id": "r_KUNOW3rCc6"
      },
      "source": [
        "# Write a function to check whether a given number belongs to fibonacci series or not"
      ],
      "execution_count": null,
      "outputs": []
    },
    {
      "cell_type": "code",
      "metadata": {
        "id": "jct2eqI7iKZk"
      },
      "source": [
        "def inFib (num):\n",
        "  \"\"\" this function checks whether a given number belongs to fibonacci series or not \"\"\"\n",
        "  if num == 0:\n",
        "    return True\n",
        "  if num == 1:\n",
        "    return True\n",
        "  a = 1\n",
        "  b = 1\n",
        "  while b < num:\n",
        "    temp = a + b;\n",
        "    a = b\n",
        "    b = temp\n",
        "  if b == num:\n",
        "    return True\n",
        "  return False"
      ],
      "execution_count": 12,
      "outputs": []
    },
    {
      "cell_type": "code",
      "metadata": {
        "id": "6NpmbHWYjKUc",
        "outputId": "10f2f287-cc65-4547-8906-9cc6ab77f8b1",
        "colab": {
          "base_uri": "https://localhost:8080/"
        }
      },
      "source": [
        "help(inFib)"
      ],
      "execution_count": 6,
      "outputs": [
        {
          "output_type": "stream",
          "name": "stdout",
          "text": [
            "Help on function inFib in module __main__:\n",
            "\n",
            "inFib(num)\n",
            "    this function checks whether a given number belongs to fibonacci series or not\n",
            "\n"
          ]
        }
      ]
    },
    {
      "cell_type": "code",
      "metadata": {
        "id": "8ovtmPfQjN3K",
        "outputId": "aca03efe-1963-41f1-aea6-d23d3c235da2",
        "colab": {
          "base_uri": "https://localhost:8080/"
        }
      },
      "source": [
        "inFib(0)"
      ],
      "execution_count": 13,
      "outputs": [
        {
          "output_type": "execute_result",
          "data": {
            "text/plain": [
              "True"
            ]
          },
          "metadata": {},
          "execution_count": 13
        }
      ]
    },
    {
      "cell_type": "code",
      "metadata": {
        "id": "PQS6sQRtjR_I",
        "outputId": "84928919-8295-4fd0-93c5-6ed6718090a4",
        "colab": {
          "base_uri": "https://localhost:8080/"
        }
      },
      "source": [
        "inFib(1)"
      ],
      "execution_count": 8,
      "outputs": [
        {
          "output_type": "execute_result",
          "data": {
            "text/plain": [
              "True"
            ]
          },
          "metadata": {},
          "execution_count": 8
        }
      ]
    },
    {
      "cell_type": "code",
      "metadata": {
        "id": "S_ZW-vcxjTiu",
        "outputId": "6d37378d-3344-432b-9ffc-6060fa0afb94",
        "colab": {
          "base_uri": "https://localhost:8080/"
        }
      },
      "source": [
        "inFib(2)"
      ],
      "execution_count": 9,
      "outputs": [
        {
          "output_type": "execute_result",
          "data": {
            "text/plain": [
              "True"
            ]
          },
          "metadata": {},
          "execution_count": 9
        }
      ]
    },
    {
      "cell_type": "code",
      "metadata": {
        "id": "5tca53R-jU2y",
        "outputId": "1ef5e4c1-5914-4384-a61e-55a7b6d8c2fb",
        "colab": {
          "base_uri": "https://localhost:8080/"
        }
      },
      "source": [
        "inFib(3)"
      ],
      "execution_count": 10,
      "outputs": [
        {
          "output_type": "execute_result",
          "data": {
            "text/plain": [
              "True"
            ]
          },
          "metadata": {},
          "execution_count": 10
        }
      ]
    },
    {
      "cell_type": "code",
      "metadata": {
        "id": "6Vmw8JJMjXA-",
        "outputId": "15057f90-da4a-4721-a444-d7735cf35665",
        "colab": {
          "base_uri": "https://localhost:8080/"
        }
      },
      "source": [
        "inFib(4)"
      ],
      "execution_count": 11,
      "outputs": [
        {
          "output_type": "execute_result",
          "data": {
            "text/plain": [
              "False"
            ]
          },
          "metadata": {},
          "execution_count": 11
        }
      ]
    },
    {
      "cell_type": "code",
      "metadata": {
        "id": "WO0T82rZjh9z",
        "outputId": "86a79f8f-b966-481f-ed6f-17265459a0d0",
        "colab": {
          "base_uri": "https://localhost:8080/"
        }
      },
      "source": [
        "inFib(54)"
      ],
      "execution_count": 14,
      "outputs": [
        {
          "output_type": "execute_result",
          "data": {
            "text/plain": [
              "False"
            ]
          },
          "metadata": {},
          "execution_count": 14
        }
      ]
    },
    {
      "cell_type": "code",
      "metadata": {
        "id": "feJFvZA1jjx2",
        "outputId": "2549b55c-c91d-49f6-a690-09089c00b94a",
        "colab": {
          "base_uri": "https://localhost:8080/"
        }
      },
      "source": [
        "inFib(55)"
      ],
      "execution_count": 15,
      "outputs": [
        {
          "output_type": "execute_result",
          "data": {
            "text/plain": [
              "True"
            ]
          },
          "metadata": {},
          "execution_count": 15
        }
      ]
    },
    {
      "cell_type": "markdown",
      "metadata": {
        "id": "3hfExC9BPkKK"
      },
      "source": [
        "Reference: [Python Documentation on Functions](https://docs.python.org/3/tutorial/controlflow.html#defining-functions)"
      ]
    }
  ]
}